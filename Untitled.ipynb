{
 "cells": [
  {
   "cell_type": "code",
   "execution_count": 1,
   "id": "28183dc9",
   "metadata": {},
   "outputs": [],
   "source": [
    "#15.1 "
   ]
  },
  {
   "cell_type": "code",
   "execution_count": 2,
   "id": "cc6d2d55",
   "metadata": {},
   "outputs": [],
   "source": [
    "from zoo import hours as menagerie"
   ]
  },
  {
   "cell_type": "code",
   "execution_count": 3,
   "id": "5c2b740d",
   "metadata": {},
   "outputs": [],
   "source": [
    "#15.2"
   ]
  },
  {
   "cell_type": "code",
   "execution_count": 4,
   "id": "a06b8674",
   "metadata": {},
   "outputs": [
    {
     "data": {
      "text/plain": [
       "'Open 9-5 daily'"
      ]
     },
     "execution_count": 4,
     "metadata": {},
     "output_type": "execute_result"
    }
   ],
   "source": [
    "menagerie()"
   ]
  },
  {
   "cell_type": "code",
   "execution_count": 5,
   "id": "0513b911",
   "metadata": {},
   "outputs": [],
   "source": [
    "#16.1-16.8"
   ]
  },
  {
   "cell_type": "code",
   "execution_count": null,
   "id": "13655a4f",
   "metadata": {},
   "outputs": [],
   "source": []
  },
  {
   "cell_type": "code",
   "execution_count": 16,
   "id": "c2a79710",
   "metadata": {},
   "outputs": [
    {
     "name": "stdout",
     "output_type": "stream",
     "text": [
      "['title', 'author', 'year']\n"
     ]
    },
    {
     "ename": "OperationalError",
     "evalue": "incomplete input",
     "output_type": "error",
     "traceback": [
      "\u001b[0;31m---------------------------------------------------------------------------\u001b[0m",
      "\u001b[0;31mOperationalError\u001b[0m                          Traceback (most recent call last)",
      "Input \u001b[0;32mIn [16]\u001b[0m, in \u001b[0;36m<cell line: 12>\u001b[0;34m()\u001b[0m\n\u001b[1;32m     23\u001b[0m     titles\u001b[38;5;241m.\u001b[39mappend(row[\u001b[38;5;241m0\u001b[39m])\n\u001b[1;32m     24\u001b[0m     books\u001b[38;5;241m.\u001b[39mappend(row)\n\u001b[0;32m---> 25\u001b[0m     \u001b[43mcurs\u001b[49m\u001b[38;5;241;43m.\u001b[39;49m\u001b[43mexecute\u001b[49m\u001b[43m(\u001b[49m\u001b[38;5;124;43mf\u001b[39;49m\u001b[38;5;124;43m'\u001b[39;49m\u001b[38;5;124;43mINSERT INTO books VALUES(\u001b[39;49m\u001b[38;5;124;43m\"\u001b[39;49m\u001b[38;5;132;43;01m{\u001b[39;49;00m\u001b[43mrow\u001b[49m\u001b[43m[\u001b[49m\u001b[38;5;241;43m0\u001b[39;49m\u001b[43m]\u001b[49m\u001b[38;5;132;43;01m}\u001b[39;49;00m\u001b[38;5;124;43m\"\u001b[39;49m\u001b[38;5;124;43m,\u001b[39;49m\u001b[38;5;124;43m\"\u001b[39;49m\u001b[38;5;132;43;01m{\u001b[39;49;00m\u001b[43mrow\u001b[49m\u001b[43m[\u001b[49m\u001b[38;5;241;43m1\u001b[39;49m\u001b[43m]\u001b[49m\u001b[38;5;132;43;01m}\u001b[39;49;00m\u001b[38;5;124;43m\"\u001b[39;49m\u001b[38;5;124;43m,\u001b[39;49m\u001b[38;5;124;43m\"\u001b[39;49m\u001b[38;5;132;43;01m{\u001b[39;49;00m\u001b[43mrow\u001b[49m\u001b[43m[\u001b[49m\u001b[38;5;241;43m2\u001b[39;49m\u001b[43m]\u001b[49m\u001b[38;5;132;43;01m}\u001b[39;49;00m\u001b[38;5;124;43m\"\u001b[39;49m\u001b[38;5;124;43m'\u001b[39;49m\u001b[43m)\u001b[49m\n\u001b[1;32m     26\u001b[0m \u001b[38;5;28mprint\u001b[39m(books)\n",
      "\u001b[0;31mOperationalError\u001b[0m: incomplete input"
     ]
    }
   ],
   "source": [
    "import csv \n",
    "import sqlite3\n",
    "\n",
    "conn = sqlite3.connect('enterprise.db')\n",
    "curs = conn.cursor()\n",
    "curs.execute('''CREATE TABLE books\n",
    "    (Title VARCHAR(20) PRIMARY KEY,\n",
    "    Author VARCHAR(20),\n",
    "    Publisher VARCHAR(20))''')\n",
    "\n",
    "\n",
    "with open('books2.csv') as csvfile:\n",
    "    bookreader = csv.reader(csvfile)\n",
    "    header = []\n",
    "    header = next(bookreader)\n",
    "    print(header)\n",
    "    \n",
    "    books = []\n",
    "    titles = []\n",
    "    authors = []\n",
    "    \n",
    "    for row in bookreader:\n",
    "        titles.append(row[0])\n",
    "        books.append(row)\n",
    "        curs.execute(f'INSERT INTO books VALUES(\"{row[0]}\",\"{row[1]}\",\"{row[2]}\"')\n",
    "    print(books)"
   ]
  },
  {
   "cell_type": "code",
   "execution_count": 15,
   "id": "60c6b8d6",
   "metadata": {},
   "outputs": [
    {
     "name": "stdout",
     "output_type": "stream",
     "text": [
      "['title', 'author', 'year']\n",
      "The Weirdstone of Brisingamen\n",
      "Perdido Street Station\n",
      "Thud!\n",
      "The Spellman Files\n",
      "Small Gods\n",
      "[['The Weirdstone of Brisingamen', 'Alan Garner', '1960'], ['Perdido Street Station', 'China Miéville', '2000'], ['Thud!', 'Terry Pratchett', '2005'], ['The Spellman Files', 'Lisa Lutz', '2007'], ['Small Gods', 'Terry Pratchett', '1992']]\n"
     ]
    }
   ],
   "source": [
    "import csv \n",
    "import pyodbc\n",
    "import pandas as pd\n",
    "\n",
    "\n",
    "with open('books2.csv') as csvfile:\n",
    "    bookreader = csv.reader(csvfile)\n",
    "    header = []\n",
    "    header = next(bookreader)\n",
    "    print(header)\n",
    "    \n",
    "    books = []\n",
    "    titles = []\n",
    "    authors = []\n",
    "    \n",
    "    for row in bookreader:\n",
    "        titles.append(row[0])\n",
    "        books.append(row)\n",
    "    print(books)"
   ]
  },
  {
   "cell_type": "code",
   "execution_count": null,
   "id": "d29f205d",
   "metadata": {},
   "outputs": [],
   "source": []
  }
 ],
 "metadata": {
  "kernelspec": {
   "display_name": "Python 3 (ipykernel)",
   "language": "python",
   "name": "python3"
  },
  "language_info": {
   "codemirror_mode": {
    "name": "ipython",
    "version": 3
   },
   "file_extension": ".py",
   "mimetype": "text/x-python",
   "name": "python",
   "nbconvert_exporter": "python",
   "pygments_lexer": "ipython3",
   "version": "3.9.12"
  }
 },
 "nbformat": 4,
 "nbformat_minor": 5
}
